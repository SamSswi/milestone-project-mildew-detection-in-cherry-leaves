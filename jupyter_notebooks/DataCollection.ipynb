{
  "cells": [
    {
      "attachments": {},
      "cell_type": "markdown",
      "metadata": {
        "id": "0aStgWSO0E0E"
      },
      "source": [
        "# **Data Collection**"
      ]
    },
    {
      "attachments": {},
      "cell_type": "markdown",
      "metadata": {
        "id": "1eLEkw5O0ECa"
      },
      "source": [
        "### Objectives\n",
        "\n",
        "* Fetch data from Kaggle and save as raw data. \n",
        "* Prepare the data for further processes.\n",
        "* Split the data into training, validation, and test sets.\n",
        "\n",
        "### Inputs\n",
        "\n",
        "* Kaggle JSON file - the authentication token.\n",
        "\n",
        "### Outputs\n",
        "\n",
        "* Generate Dataset: inputs/cherry_leaves/cherry-leaves\n",
        "\n",
        "### Additional Comments\n",
        "\n",
        "* No additional comments\n",
        "\n"
      ]
    },
    {
      "attachments": {},
      "cell_type": "markdown",
      "metadata": {
        "id": "9uWZXH9LwoQg"
      },
      "source": [
        "---"
      ]
    },
    {
      "attachments": {},
      "cell_type": "markdown",
      "metadata": {
        "id": "cqP-UeN-z3i2"
      },
      "source": [
        "## **Change working directory**"
      ]
    },
    {
      "attachments": {},
      "cell_type": "markdown",
      "metadata": {
        "id": "aOGIGS-uz3i2"
      },
      "source": [
        "We need to change the working directory from its current folder to its parent folder\n",
        "* We access the current directory with os.getcwd()"
      ]
    },
    {
      "cell_type": "code",
      "execution_count": 1,
      "metadata": {
        "id": "wZfF_j-Bz3i4",
        "outputId": "66943449-1436-4c3d-85c7-b85f9f78349b"
      },
      "outputs": [
        {
          "data": {
            "text/plain": [
              "'/workspace/milestone-project-mildew-detection-in-cherry-leaves/jupyter_notebooks'"
            ]
          },
          "execution_count": 1,
          "metadata": {},
          "output_type": "execute_result"
        }
      ],
      "source": [
        "import os\n",
        "current_dir = os.getcwd()\n",
        "current_dir"
      ]
    },
    {
      "attachments": {},
      "cell_type": "markdown",
      "metadata": {
        "id": "9MWW8E7lz3i7"
      },
      "source": [
        "We want to make the parent of the current directory the new current directory\n",
        "* os.path.dirname() gets the parent directory\n",
        "* os.chir() defines the new current directory"
      ]
    },
    {
      "cell_type": "code",
      "execution_count": 2,
      "metadata": {
        "id": "TwHsQRWjz3i9",
        "outputId": "86849db3-cd2f-4cc5-ebb8-2d0caafa1a2c"
      },
      "outputs": [
        {
          "name": "stdout",
          "output_type": "stream",
          "text": [
            "You set a new current directory\n"
          ]
        }
      ],
      "source": [
        "os.chdir(os.path.dirname(current_dir))\n",
        "print(\"You set a new current directory\")"
      ]
    },
    {
      "attachments": {},
      "cell_type": "markdown",
      "metadata": {
        "id": "M_xPk_Ijz3i-"
      },
      "source": [
        "Confirm the new current directory"
      ]
    },
    {
      "cell_type": "code",
      "execution_count": 3,
      "metadata": {
        "id": "vz3S-_kjz3jA",
        "outputId": "00b79ae4-75d0-4a96-d193-ac9ef9847ea2"
      },
      "outputs": [
        {
          "data": {
            "text/plain": [
              "'/workspace/milestone-project-mildew-detection-in-cherry-leaves'"
            ]
          },
          "execution_count": 3,
          "metadata": {},
          "output_type": "execute_result"
        }
      ],
      "source": [
        "current_dir = os.getcwd()\n",
        "current_dir"
      ]
    },
    {
      "attachments": {},
      "cell_type": "markdown",
      "metadata": {},
      "source": [
        "## **Import the requirements.txt packages**"
      ]
    },
    {
      "cell_type": "code",
      "execution_count": 4,
      "metadata": {},
      "outputs": [
        {
          "name": "stdout",
          "output_type": "stream",
          "text": [
            "Requirement already satisfied: numpy==1.19.2 in /home/gitpod/.pyenv/versions/3.8.16/lib/python3.8/site-packages (from -r /workspace/milestone-project-mildew-detection-in-cherry-leaves/requirements.txt (line 1)) (1.19.2)\n",
            "Requirement already satisfied: pandas==1.1.2 in /home/gitpod/.pyenv/versions/3.8.16/lib/python3.8/site-packages (from -r /workspace/milestone-project-mildew-detection-in-cherry-leaves/requirements.txt (line 2)) (1.1.2)\n",
            "Requirement already satisfied: matplotlib==3.3.1 in /home/gitpod/.pyenv/versions/3.8.16/lib/python3.8/site-packages (from -r /workspace/milestone-project-mildew-detection-in-cherry-leaves/requirements.txt (line 3)) (3.3.1)\n",
            "Requirement already satisfied: seaborn==0.11.0 in /home/gitpod/.pyenv/versions/3.8.16/lib/python3.8/site-packages (from -r /workspace/milestone-project-mildew-detection-in-cherry-leaves/requirements.txt (line 4)) (0.11.0)\n",
            "Requirement already satisfied: plotly==4.12.0 in /home/gitpod/.pyenv/versions/3.8.16/lib/python3.8/site-packages (from -r /workspace/milestone-project-mildew-detection-in-cherry-leaves/requirements.txt (line 5)) (4.12.0)\n",
            "Requirement already satisfied: streamlit==0.85.0 in /home/gitpod/.pyenv/versions/3.8.16/lib/python3.8/site-packages (from -r /workspace/milestone-project-mildew-detection-in-cherry-leaves/requirements.txt (line 7)) (0.85.0)\n",
            "Requirement already satisfied: scikit-learn==0.24.2 in /home/gitpod/.pyenv/versions/3.8.16/lib/python3.8/site-packages (from -r /workspace/milestone-project-mildew-detection-in-cherry-leaves/requirements.txt (line 9)) (0.24.2)\n",
            "Requirement already satisfied: tensorflow-cpu==2.6.0 in /home/gitpod/.pyenv/versions/3.8.16/lib/python3.8/site-packages (from -r /workspace/milestone-project-mildew-detection-in-cherry-leaves/requirements.txt (line 10)) (2.6.0)\n",
            "Requirement already satisfied: keras==2.6.0 in /home/gitpod/.pyenv/versions/3.8.16/lib/python3.8/site-packages (from -r /workspace/milestone-project-mildew-detection-in-cherry-leaves/requirements.txt (line 11)) (2.6.0)\n",
            "Requirement already satisfied: protobuf==3.20 in /home/gitpod/.pyenv/versions/3.8.16/lib/python3.8/site-packages (from -r /workspace/milestone-project-mildew-detection-in-cherry-leaves/requirements.txt (line 12)) (3.20.0)\n",
            "Requirement already satisfied: pytz>=2017.2 in /home/gitpod/.pyenv/versions/3.8.16/lib/python3.8/site-packages (from pandas==1.1.2->-r /workspace/milestone-project-mildew-detection-in-cherry-leaves/requirements.txt (line 2)) (2023.3)\n",
            "Requirement already satisfied: python-dateutil>=2.7.3 in /home/gitpod/.pyenv/versions/3.8.16/lib/python3.8/site-packages (from pandas==1.1.2->-r /workspace/milestone-project-mildew-detection-in-cherry-leaves/requirements.txt (line 2)) (2.8.2)\n",
            "Requirement already satisfied: cycler>=0.10 in /home/gitpod/.pyenv/versions/3.8.16/lib/python3.8/site-packages (from matplotlib==3.3.1->-r /workspace/milestone-project-mildew-detection-in-cherry-leaves/requirements.txt (line 3)) (0.11.0)\n",
            "Requirement already satisfied: pyparsing!=2.0.4,!=2.1.2,!=2.1.6,>=2.0.3 in /home/gitpod/.pyenv/versions/3.8.16/lib/python3.8/site-packages (from matplotlib==3.3.1->-r /workspace/milestone-project-mildew-detection-in-cherry-leaves/requirements.txt (line 3)) (3.1.0)\n",
            "Requirement already satisfied: pillow>=6.2.0 in /home/gitpod/.pyenv/versions/3.8.16/lib/python3.8/site-packages (from matplotlib==3.3.1->-r /workspace/milestone-project-mildew-detection-in-cherry-leaves/requirements.txt (line 3)) (9.5.0)\n",
            "Requirement already satisfied: certifi>=2020.06.20 in /home/gitpod/.pyenv/versions/3.8.16/lib/python3.8/site-packages (from matplotlib==3.3.1->-r /workspace/milestone-project-mildew-detection-in-cherry-leaves/requirements.txt (line 3)) (2023.5.7)\n",
            "Requirement already satisfied: kiwisolver>=1.0.1 in /home/gitpod/.pyenv/versions/3.8.16/lib/python3.8/site-packages (from matplotlib==3.3.1->-r /workspace/milestone-project-mildew-detection-in-cherry-leaves/requirements.txt (line 3)) (1.4.4)\n",
            "Requirement already satisfied: scipy>=1.0 in /home/gitpod/.pyenv/versions/3.8.16/lib/python3.8/site-packages (from seaborn==0.11.0->-r /workspace/milestone-project-mildew-detection-in-cherry-leaves/requirements.txt (line 4)) (1.9.3)\n",
            "Requirement already satisfied: six in /home/gitpod/.pyenv/versions/3.8.16/lib/python3.8/site-packages (from plotly==4.12.0->-r /workspace/milestone-project-mildew-detection-in-cherry-leaves/requirements.txt (line 5)) (1.15.0)\n",
            "Requirement already satisfied: retrying>=1.3.3 in /home/gitpod/.pyenv/versions/3.8.16/lib/python3.8/site-packages (from plotly==4.12.0->-r /workspace/milestone-project-mildew-detection-in-cherry-leaves/requirements.txt (line 5)) (1.3.4)\n",
            "Requirement already satisfied: tzlocal in /home/gitpod/.pyenv/versions/3.8.16/lib/python3.8/site-packages (from streamlit==0.85.0->-r /workspace/milestone-project-mildew-detection-in-cherry-leaves/requirements.txt (line 7)) (5.0.1)\n",
            "Requirement already satisfied: attrs in /home/gitpod/.pyenv/versions/3.8.16/lib/python3.8/site-packages (from streamlit==0.85.0->-r /workspace/milestone-project-mildew-detection-in-cherry-leaves/requirements.txt (line 7)) (23.1.0)\n",
            "Requirement already satisfied: altair>=3.2.0 in /home/gitpod/.pyenv/versions/3.8.16/lib/python3.8/site-packages (from streamlit==0.85.0->-r /workspace/milestone-project-mildew-detection-in-cherry-leaves/requirements.txt (line 7)) (4.2.2)\n",
            "Requirement already satisfied: blinker in /home/gitpod/.pyenv/versions/3.8.16/lib/python3.8/site-packages (from streamlit==0.85.0->-r /workspace/milestone-project-mildew-detection-in-cherry-leaves/requirements.txt (line 7)) (1.6.2)\n",
            "Requirement already satisfied: base58 in /home/gitpod/.pyenv/versions/3.8.16/lib/python3.8/site-packages (from streamlit==0.85.0->-r /workspace/milestone-project-mildew-detection-in-cherry-leaves/requirements.txt (line 7)) (2.1.1)\n",
            "Requirement already satisfied: pydeck>=0.1.dev5 in /home/gitpod/.pyenv/versions/3.8.16/lib/python3.8/site-packages (from streamlit==0.85.0->-r /workspace/milestone-project-mildew-detection-in-cherry-leaves/requirements.txt (line 7)) (0.8.1b0)\n",
            "Requirement already satisfied: cachetools>=4.0 in /home/gitpod/.pyenv/versions/3.8.16/lib/python3.8/site-packages (from streamlit==0.85.0->-r /workspace/milestone-project-mildew-detection-in-cherry-leaves/requirements.txt (line 7)) (5.3.1)\n",
            "Requirement already satisfied: astor in /home/gitpod/.pyenv/versions/3.8.16/lib/python3.8/site-packages (from streamlit==0.85.0->-r /workspace/milestone-project-mildew-detection-in-cherry-leaves/requirements.txt (line 7)) (0.8.1)\n",
            "Requirement already satisfied: click<8.0,>=7.0 in /home/gitpod/.pyenv/versions/3.8.16/lib/python3.8/site-packages (from streamlit==0.85.0->-r /workspace/milestone-project-mildew-detection-in-cherry-leaves/requirements.txt (line 7)) (7.1.2)\n",
            "Requirement already satisfied: watchdog in /home/gitpod/.pyenv/versions/3.8.16/lib/python3.8/site-packages (from streamlit==0.85.0->-r /workspace/milestone-project-mildew-detection-in-cherry-leaves/requirements.txt (line 7)) (3.0.0)\n",
            "Requirement already satisfied: validators in /home/gitpod/.pyenv/versions/3.8.16/lib/python3.8/site-packages (from streamlit==0.85.0->-r /workspace/milestone-project-mildew-detection-in-cherry-leaves/requirements.txt (line 7)) (0.20.0)\n",
            "Requirement already satisfied: pyarrow in /home/gitpod/.pyenv/versions/3.8.16/lib/python3.8/site-packages (from streamlit==0.85.0->-r /workspace/milestone-project-mildew-detection-in-cherry-leaves/requirements.txt (line 7)) (12.0.1)\n",
            "Requirement already satisfied: gitpython in /home/gitpod/.pyenv/versions/3.8.16/lib/python3.8/site-packages (from streamlit==0.85.0->-r /workspace/milestone-project-mildew-detection-in-cherry-leaves/requirements.txt (line 7)) (3.1.31)\n",
            "Requirement already satisfied: toml in /home/gitpod/.pyenv/versions/3.8.16/lib/python3.8/site-packages (from streamlit==0.85.0->-r /workspace/milestone-project-mildew-detection-in-cherry-leaves/requirements.txt (line 7)) (0.10.2)\n",
            "Requirement already satisfied: packaging in /home/gitpod/.pyenv/versions/3.8.16/lib/python3.8/site-packages (from streamlit==0.85.0->-r /workspace/milestone-project-mildew-detection-in-cherry-leaves/requirements.txt (line 7)) (23.1)\n",
            "Requirement already satisfied: requests in /home/gitpod/.pyenv/versions/3.8.16/lib/python3.8/site-packages (from streamlit==0.85.0->-r /workspace/milestone-project-mildew-detection-in-cherry-leaves/requirements.txt (line 7)) (2.31.0)\n",
            "Requirement already satisfied: tornado>=5.0 in /home/gitpod/.pyenv/versions/3.8.16/lib/python3.8/site-packages (from streamlit==0.85.0->-r /workspace/milestone-project-mildew-detection-in-cherry-leaves/requirements.txt (line 7)) (6.3.2)\n",
            "Requirement already satisfied: joblib>=0.11 in /home/gitpod/.pyenv/versions/3.8.16/lib/python3.8/site-packages (from scikit-learn==0.24.2->-r /workspace/milestone-project-mildew-detection-in-cherry-leaves/requirements.txt (line 9)) (1.2.0)\n",
            "Requirement already satisfied: threadpoolctl>=2.0.0 in /home/gitpod/.pyenv/versions/3.8.16/lib/python3.8/site-packages (from scikit-learn==0.24.2->-r /workspace/milestone-project-mildew-detection-in-cherry-leaves/requirements.txt (line 9)) (3.1.0)\n",
            "Requirement already satisfied: astunparse~=1.6.3 in /home/gitpod/.pyenv/versions/3.8.16/lib/python3.8/site-packages (from tensorflow-cpu==2.6.0->-r /workspace/milestone-project-mildew-detection-in-cherry-leaves/requirements.txt (line 10)) (1.6.3)\n",
            "Requirement already satisfied: wrapt~=1.12.1 in /home/gitpod/.pyenv/versions/3.8.16/lib/python3.8/site-packages (from tensorflow-cpu==2.6.0->-r /workspace/milestone-project-mildew-detection-in-cherry-leaves/requirements.txt (line 10)) (1.12.1)\n",
            "Requirement already satisfied: gast==0.4.0 in /home/gitpod/.pyenv/versions/3.8.16/lib/python3.8/site-packages (from tensorflow-cpu==2.6.0->-r /workspace/milestone-project-mildew-detection-in-cherry-leaves/requirements.txt (line 10)) (0.4.0)\n",
            "Requirement already satisfied: wheel~=0.35 in /home/gitpod/.pyenv/versions/3.8.16/lib/python3.8/site-packages (from tensorflow-cpu==2.6.0->-r /workspace/milestone-project-mildew-detection-in-cherry-leaves/requirements.txt (line 10)) (0.40.0)\n",
            "Requirement already satisfied: termcolor~=1.1.0 in /home/gitpod/.pyenv/versions/3.8.16/lib/python3.8/site-packages (from tensorflow-cpu==2.6.0->-r /workspace/milestone-project-mildew-detection-in-cherry-leaves/requirements.txt (line 10)) (1.1.0)\n",
            "Requirement already satisfied: absl-py~=0.10 in /home/gitpod/.pyenv/versions/3.8.16/lib/python3.8/site-packages (from tensorflow-cpu==2.6.0->-r /workspace/milestone-project-mildew-detection-in-cherry-leaves/requirements.txt (line 10)) (0.15.0)\n",
            "Requirement already satisfied: h5py~=3.1.0 in /home/gitpod/.pyenv/versions/3.8.16/lib/python3.8/site-packages (from tensorflow-cpu==2.6.0->-r /workspace/milestone-project-mildew-detection-in-cherry-leaves/requirements.txt (line 10)) (3.1.0)\n",
            "Requirement already satisfied: tensorboard~=2.6 in /home/gitpod/.pyenv/versions/3.8.16/lib/python3.8/site-packages (from tensorflow-cpu==2.6.0->-r /workspace/milestone-project-mildew-detection-in-cherry-leaves/requirements.txt (line 10)) (2.13.0)\n",
            "Requirement already satisfied: typing-extensions~=3.7.4 in /home/gitpod/.pyenv/versions/3.8.16/lib/python3.8/site-packages (from tensorflow-cpu==2.6.0->-r /workspace/milestone-project-mildew-detection-in-cherry-leaves/requirements.txt (line 10)) (3.7.4.3)\n",
            "Requirement already satisfied: clang~=5.0 in /home/gitpod/.pyenv/versions/3.8.16/lib/python3.8/site-packages (from tensorflow-cpu==2.6.0->-r /workspace/milestone-project-mildew-detection-in-cherry-leaves/requirements.txt (line 10)) (5.0)\n",
            "Requirement already satisfied: grpcio<2.0,>=1.37.0 in /home/gitpod/.pyenv/versions/3.8.16/lib/python3.8/site-packages (from tensorflow-cpu==2.6.0->-r /workspace/milestone-project-mildew-detection-in-cherry-leaves/requirements.txt (line 10)) (1.56.0)\n",
            "Requirement already satisfied: flatbuffers~=1.12.0 in /home/gitpod/.pyenv/versions/3.8.16/lib/python3.8/site-packages (from tensorflow-cpu==2.6.0->-r /workspace/milestone-project-mildew-detection-in-cherry-leaves/requirements.txt (line 10)) (1.12)\n",
            "Requirement already satisfied: opt-einsum~=3.3.0 in /home/gitpod/.pyenv/versions/3.8.16/lib/python3.8/site-packages (from tensorflow-cpu==2.6.0->-r /workspace/milestone-project-mildew-detection-in-cherry-leaves/requirements.txt (line 10)) (3.3.0)\n",
            "Requirement already satisfied: google-pasta~=0.2 in /home/gitpod/.pyenv/versions/3.8.16/lib/python3.8/site-packages (from tensorflow-cpu==2.6.0->-r /workspace/milestone-project-mildew-detection-in-cherry-leaves/requirements.txt (line 10)) (0.2.0)\n",
            "Requirement already satisfied: tensorflow-estimator~=2.6 in /home/gitpod/.pyenv/versions/3.8.16/lib/python3.8/site-packages (from tensorflow-cpu==2.6.0->-r /workspace/milestone-project-mildew-detection-in-cherry-leaves/requirements.txt (line 10)) (2.12.0)\n",
            "Requirement already satisfied: keras-preprocessing~=1.1.2 in /home/gitpod/.pyenv/versions/3.8.16/lib/python3.8/site-packages (from tensorflow-cpu==2.6.0->-r /workspace/milestone-project-mildew-detection-in-cherry-leaves/requirements.txt (line 10)) (1.1.2)\n",
            "Requirement already satisfied: toolz in /home/gitpod/.pyenv/versions/3.8.16/lib/python3.8/site-packages (from altair>=3.2.0->streamlit==0.85.0->-r /workspace/milestone-project-mildew-detection-in-cherry-leaves/requirements.txt (line 7)) (0.12.0)\n",
            "Requirement already satisfied: jsonschema>=3.0 in /home/gitpod/.pyenv/versions/3.8.16/lib/python3.8/site-packages (from altair>=3.2.0->streamlit==0.85.0->-r /workspace/milestone-project-mildew-detection-in-cherry-leaves/requirements.txt (line 7)) (4.17.3)\n",
            "Requirement already satisfied: entrypoints in /home/gitpod/.pyenv/versions/3.8.16/lib/python3.8/site-packages (from altair>=3.2.0->streamlit==0.85.0->-r /workspace/milestone-project-mildew-detection-in-cherry-leaves/requirements.txt (line 7)) (0.4)\n",
            "Requirement already satisfied: jinja2 in /home/gitpod/.pyenv/versions/3.8.16/lib/python3.8/site-packages (from altair>=3.2.0->streamlit==0.85.0->-r /workspace/milestone-project-mildew-detection-in-cherry-leaves/requirements.txt (line 7)) (3.1.2)\n",
            "Requirement already satisfied: google-auth-oauthlib<1.1,>=0.5 in /home/gitpod/.pyenv/versions/3.8.16/lib/python3.8/site-packages (from tensorboard~=2.6->tensorflow-cpu==2.6.0->-r /workspace/milestone-project-mildew-detection-in-cherry-leaves/requirements.txt (line 10)) (1.0.0)\n",
            "Requirement already satisfied: werkzeug>=1.0.1 in /home/gitpod/.pyenv/versions/3.8.16/lib/python3.8/site-packages (from tensorboard~=2.6->tensorflow-cpu==2.6.0->-r /workspace/milestone-project-mildew-detection-in-cherry-leaves/requirements.txt (line 10)) (2.3.6)\n",
            "Requirement already satisfied: tensorboard-data-server<0.8.0,>=0.7.0 in /home/gitpod/.pyenv/versions/3.8.16/lib/python3.8/site-packages (from tensorboard~=2.6->tensorflow-cpu==2.6.0->-r /workspace/milestone-project-mildew-detection-in-cherry-leaves/requirements.txt (line 10)) (0.7.1)\n",
            "Requirement already satisfied: google-auth<3,>=1.6.3 in /home/gitpod/.pyenv/versions/3.8.16/lib/python3.8/site-packages (from tensorboard~=2.6->tensorflow-cpu==2.6.0->-r /workspace/milestone-project-mildew-detection-in-cherry-leaves/requirements.txt (line 10)) (2.20.0)\n",
            "Requirement already satisfied: setuptools>=41.0.0 in /home/gitpod/.pyenv/versions/3.8.16/lib/python3.8/site-packages (from tensorboard~=2.6->tensorflow-cpu==2.6.0->-r /workspace/milestone-project-mildew-detection-in-cherry-leaves/requirements.txt (line 10)) (56.0.0)\n",
            "Requirement already satisfied: markdown>=2.6.8 in /home/gitpod/.pyenv/versions/3.8.16/lib/python3.8/site-packages (from tensorboard~=2.6->tensorflow-cpu==2.6.0->-r /workspace/milestone-project-mildew-detection-in-cherry-leaves/requirements.txt (line 10)) (3.4.3)\n",
            "Requirement already satisfied: idna<4,>=2.5 in /home/gitpod/.pyenv/versions/3.8.16/lib/python3.8/site-packages (from requests->streamlit==0.85.0->-r /workspace/milestone-project-mildew-detection-in-cherry-leaves/requirements.txt (line 7)) (3.4)\n",
            "Requirement already satisfied: charset-normalizer<4,>=2 in /home/gitpod/.pyenv/versions/3.8.16/lib/python3.8/site-packages (from requests->streamlit==0.85.0->-r /workspace/milestone-project-mildew-detection-in-cherry-leaves/requirements.txt (line 7)) (3.1.0)\n",
            "Requirement already satisfied: urllib3<3,>=1.21.1 in /home/gitpod/.pyenv/versions/3.8.16/lib/python3.8/site-packages (from requests->streamlit==0.85.0->-r /workspace/milestone-project-mildew-detection-in-cherry-leaves/requirements.txt (line 7)) (1.26.16)\n",
            "Requirement already satisfied: gitdb<5,>=4.0.1 in /home/gitpod/.pyenv/versions/3.8.16/lib/python3.8/site-packages (from gitpython->streamlit==0.85.0->-r /workspace/milestone-project-mildew-detection-in-cherry-leaves/requirements.txt (line 7)) (4.0.10)\n",
            "Requirement already satisfied: backports.zoneinfo in /home/gitpod/.pyenv/versions/3.8.16/lib/python3.8/site-packages (from tzlocal->streamlit==0.85.0->-r /workspace/milestone-project-mildew-detection-in-cherry-leaves/requirements.txt (line 7)) (0.2.1)\n",
            "Requirement already satisfied: decorator>=3.4.0 in /home/gitpod/.pyenv/versions/3.8.16/lib/python3.8/site-packages (from validators->streamlit==0.85.0->-r /workspace/milestone-project-mildew-detection-in-cherry-leaves/requirements.txt (line 7)) (5.1.1)\n",
            "Requirement already satisfied: smmap<6,>=3.0.1 in /home/gitpod/.pyenv/versions/3.8.16/lib/python3.8/site-packages (from gitdb<5,>=4.0.1->gitpython->streamlit==0.85.0->-r /workspace/milestone-project-mildew-detection-in-cherry-leaves/requirements.txt (line 7)) (5.0.0)\n",
            "Requirement already satisfied: pyasn1-modules>=0.2.1 in /home/gitpod/.pyenv/versions/3.8.16/lib/python3.8/site-packages (from google-auth<3,>=1.6.3->tensorboard~=2.6->tensorflow-cpu==2.6.0->-r /workspace/milestone-project-mildew-detection-in-cherry-leaves/requirements.txt (line 10)) (0.3.0)\n",
            "Requirement already satisfied: rsa<5,>=3.1.4 in /home/gitpod/.pyenv/versions/3.8.16/lib/python3.8/site-packages (from google-auth<3,>=1.6.3->tensorboard~=2.6->tensorflow-cpu==2.6.0->-r /workspace/milestone-project-mildew-detection-in-cherry-leaves/requirements.txt (line 10)) (4.9)\n",
            "Requirement already satisfied: requests-oauthlib>=0.7.0 in /home/gitpod/.pyenv/versions/3.8.16/lib/python3.8/site-packages (from google-auth-oauthlib<1.1,>=0.5->tensorboard~=2.6->tensorflow-cpu==2.6.0->-r /workspace/milestone-project-mildew-detection-in-cherry-leaves/requirements.txt (line 10)) (1.3.1)\n",
            "Requirement already satisfied: MarkupSafe>=2.0 in /home/gitpod/.pyenv/versions/3.8.16/lib/python3.8/site-packages (from jinja2->altair>=3.2.0->streamlit==0.85.0->-r /workspace/milestone-project-mildew-detection-in-cherry-leaves/requirements.txt (line 7)) (2.1.3)\n",
            "Requirement already satisfied: pyrsistent!=0.17.0,!=0.17.1,!=0.17.2,>=0.14.0 in /home/gitpod/.pyenv/versions/3.8.16/lib/python3.8/site-packages (from jsonschema>=3.0->altair>=3.2.0->streamlit==0.85.0->-r /workspace/milestone-project-mildew-detection-in-cherry-leaves/requirements.txt (line 7)) (0.19.3)\n",
            "Requirement already satisfied: importlib-resources>=1.4.0 in /home/gitpod/.pyenv/versions/3.8.16/lib/python3.8/site-packages (from jsonschema>=3.0->altair>=3.2.0->streamlit==0.85.0->-r /workspace/milestone-project-mildew-detection-in-cherry-leaves/requirements.txt (line 7)) (5.12.0)\n",
            "Requirement already satisfied: pkgutil-resolve-name>=1.3.10 in /home/gitpod/.pyenv/versions/3.8.16/lib/python3.8/site-packages (from jsonschema>=3.0->altair>=3.2.0->streamlit==0.85.0->-r /workspace/milestone-project-mildew-detection-in-cherry-leaves/requirements.txt (line 7)) (1.3.10)\n",
            "Requirement already satisfied: importlib-metadata>=4.4 in /home/gitpod/.pyenv/versions/3.8.16/lib/python3.8/site-packages (from markdown>=2.6.8->tensorboard~=2.6->tensorflow-cpu==2.6.0->-r /workspace/milestone-project-mildew-detection-in-cherry-leaves/requirements.txt (line 10)) (6.7.0)\n",
            "Requirement already satisfied: zipp>=0.5 in /home/gitpod/.pyenv/versions/3.8.16/lib/python3.8/site-packages (from importlib-metadata>=4.4->markdown>=2.6.8->tensorboard~=2.6->tensorflow-cpu==2.6.0->-r /workspace/milestone-project-mildew-detection-in-cherry-leaves/requirements.txt (line 10)) (3.15.0)\n",
            "Requirement already satisfied: pyasn1<0.6.0,>=0.4.6 in /home/gitpod/.pyenv/versions/3.8.16/lib/python3.8/site-packages (from pyasn1-modules>=0.2.1->google-auth<3,>=1.6.3->tensorboard~=2.6->tensorflow-cpu==2.6.0->-r /workspace/milestone-project-mildew-detection-in-cherry-leaves/requirements.txt (line 10)) (0.5.0)\n",
            "Requirement already satisfied: oauthlib>=3.0.0 in /home/gitpod/.pyenv/versions/3.8.16/lib/python3.8/site-packages (from requests-oauthlib>=0.7.0->google-auth-oauthlib<1.1,>=0.5->tensorboard~=2.6->tensorflow-cpu==2.6.0->-r /workspace/milestone-project-mildew-detection-in-cherry-leaves/requirements.txt (line 10)) (3.2.2)\n",
            "\u001b[33mWARNING: You are using pip version 22.0.4; however, version 23.1.2 is available.\n",
            "You should consider upgrading via the '/home/gitpod/.pyenv/versions/3.8.16/bin/python -m pip install --upgrade pip' command.\u001b[0m\u001b[33m\n",
            "\u001b[0mNote: you may need to restart the kernel to use updated packages.\n"
          ]
        }
      ],
      "source": [
        "# This code snippet was adapted from Code Institue Malaria Detector Walkthrough Sample Project\n",
        "# https://github.com/Code-Institute-Solutions/WalkthroughProject01/blob/main/jupyter_notebooks/01%20-%20DataCollection.ipynb\n",
        "\n",
        "%pip install -r /workspace/milestone-project-mildew-detection-in-cherry-leaves/requirements.txt\n",
        "import numpy\n",
        "import os"
      ]
    },
    {
      "attachments": {},
      "cell_type": "markdown",
      "metadata": {},
      "source": [
        "## **Install Kaggle. Download the Dataset**"
      ]
    },
    {
      "attachments": {},
      "cell_type": "markdown",
      "metadata": {},
      "source": [
        "Install Kaggle"
      ]
    },
    {
      "cell_type": "code",
      "execution_count": 5,
      "metadata": {},
      "outputs": [
        {
          "name": "stdout",
          "output_type": "stream",
          "text": [
            "Requirement already satisfied: kaggle==1.5.12 in /home/gitpod/.pyenv/versions/3.8.16/lib/python3.8/site-packages (1.5.12)\n",
            "Requirement already satisfied: urllib3 in /home/gitpod/.pyenv/versions/3.8.16/lib/python3.8/site-packages (from kaggle==1.5.12) (1.26.16)\n",
            "Requirement already satisfied: six>=1.10 in /home/gitpod/.pyenv/versions/3.8.16/lib/python3.8/site-packages (from kaggle==1.5.12) (1.15.0)\n",
            "Requirement already satisfied: tqdm in /home/gitpod/.pyenv/versions/3.8.16/lib/python3.8/site-packages (from kaggle==1.5.12) (4.65.0)\n",
            "Requirement already satisfied: certifi in /home/gitpod/.pyenv/versions/3.8.16/lib/python3.8/site-packages (from kaggle==1.5.12) (2023.5.7)\n",
            "Requirement already satisfied: python-dateutil in /home/gitpod/.pyenv/versions/3.8.16/lib/python3.8/site-packages (from kaggle==1.5.12) (2.8.2)\n",
            "Requirement already satisfied: requests in /home/gitpod/.pyenv/versions/3.8.16/lib/python3.8/site-packages (from kaggle==1.5.12) (2.31.0)\n",
            "Requirement already satisfied: python-slugify in /home/gitpod/.pyenv/versions/3.8.16/lib/python3.8/site-packages (from kaggle==1.5.12) (8.0.1)\n",
            "Requirement already satisfied: text-unidecode>=1.3 in /home/gitpod/.pyenv/versions/3.8.16/lib/python3.8/site-packages (from python-slugify->kaggle==1.5.12) (1.3)\n",
            "Requirement already satisfied: charset-normalizer<4,>=2 in /home/gitpod/.pyenv/versions/3.8.16/lib/python3.8/site-packages (from requests->kaggle==1.5.12) (3.1.0)\n",
            "Requirement already satisfied: idna<4,>=2.5 in /home/gitpod/.pyenv/versions/3.8.16/lib/python3.8/site-packages (from requests->kaggle==1.5.12) (3.4)\n",
            "\u001b[33mWARNING: You are using pip version 22.0.4; however, version 23.1.2 is available.\n",
            "You should consider upgrading via the '/home/gitpod/.pyenv/versions/3.8.16/bin/python -m pip install --upgrade pip' command.\u001b[0m\u001b[33m\n",
            "\u001b[0mNote: you may need to restart the kernel to use updated packages.\n"
          ]
        }
      ],
      "source": [
        "# This code snippet was adapted from Code Institue Malaria Detector Walkthrough Sample Project\n",
        "# https://github.com/Code-Institute-Solutions/WalkthroughProject01/blob/main/jupyter_notebooks/01%20-%20DataCollection.ipynb\n",
        "\n",
        "# install kaggle package\n",
        "%pip install kaggle==1.5.12"
      ]
    },
    {
      "attachments": {},
      "cell_type": "markdown",
      "metadata": {},
      "source": [
        "* Change the Kaggle configuration directory to the current working directory. \n",
        "* Set permissions for the Kaggle authentication JSON."
      ]
    },
    {
      "cell_type": "code",
      "execution_count": 6,
      "metadata": {},
      "outputs": [
        {
          "name": "stdout",
          "output_type": "stream",
          "text": [
            "chmod: cannot access 'kaggle.json': No such file or directory\n"
          ]
        }
      ],
      "source": [
        "# This code snippet was adapted from Code Institue Malaria Detector Walkthrough Sample Project\n",
        "# https://github.com/Code-Institute-Solutions/WalkthroughProject01/blob/main/jupyter_notebooks/01%20-%20DataCollection.ipynb\n",
        "\n",
        "os.environ['KAGGLE_CONFIG_DIR'] = os.getcwd()\n",
        "! chmod 600 kaggle.json"
      ]
    },
    {
      "attachments": {},
      "cell_type": "markdown",
      "metadata": {},
      "source": [
        "Set the Kaggle Dataset and Download it."
      ]
    },
    {
      "cell_type": "code",
      "execution_count": 9,
      "metadata": {},
      "outputs": [
        {
          "name": "stdout",
          "output_type": "stream",
          "text": [
            "Downloading cherry-leaves.zip to inputs/cherry_leaves\n",
            " 96%|████████████████████████████████████▌ | 53.0M/55.0M [00:01<00:00, 44.2MB/s]\n",
            "100%|██████████████████████████████████████| 55.0M/55.0M [00:01<00:00, 30.6MB/s]\n"
          ]
        }
      ],
      "source": [
        "# This code snippet was adapted from Code Institue Malaria Detector Walkthrough Sample Project\n",
        "# https://github.com/Code-Institute-Solutions/WalkthroughProject01/blob/main/jupyter_notebooks/01%20-%20DataCollection.ipynb\n",
        "\n",
        "KaggleDatasetPath = \"codeinstitute/cherry-leaves\"\n",
        "DestinationFolder = \"inputs/cherry_leaves\"  \n",
        "! kaggle datasets download -d {KaggleDatasetPath} -p {DestinationFolder}"
      ]
    },
    {
      "attachments": {},
      "cell_type": "markdown",
      "metadata": {},
      "source": [
        "Unzip the downloaded file, and delete the zip file."
      ]
    },
    {
      "cell_type": "code",
      "execution_count": 10,
      "metadata": {},
      "outputs": [],
      "source": [
        "# This code snippet was adapted from Code Institue Malaria Detector Walkthrough Sample Project\n",
        "# https://github.com/Code-Institute-Solutions/WalkthroughProject01/blob/main/jupyter_notebooks/01%20-%20DataCollection.ipynb\n",
        "\n",
        "import zipfile\n",
        "with zipfile.ZipFile(DestinationFolder + '/cherry-leaves.zip', 'r') as zip_ref:\n",
        "    zip_ref.extractall(DestinationFolder)\n",
        "\n",
        "os.remove(DestinationFolder + '/cherry-leaves.zip')"
      ]
    },
    {
      "attachments": {},
      "cell_type": "markdown",
      "metadata": {
        "id": "ZY3l0-AxO93d"
      },
      "source": [
        "---"
      ]
    },
    {
      "attachments": {},
      "cell_type": "markdown",
      "metadata": {
        "id": "uFQo3ycuO-v6"
      },
      "source": [
        "## **Data Preparation**"
      ]
    },
    {
      "attachments": {},
      "cell_type": "markdown",
      "metadata": {},
      "source": [
        "### Data Cleaning\n"
      ]
    },
    {
      "attachments": {},
      "cell_type": "markdown",
      "metadata": {},
      "source": [
        "Check whether there are non-image files and remove them"
      ]
    },
    {
      "cell_type": "code",
      "execution_count": 7,
      "metadata": {},
      "outputs": [],
      "source": [
        "# This code snippet was adapted from Code Institue Malaria Detector Walkthrough Sample Project\n",
        "# https://github.com/Code-Institute-Solutions/WalkthroughProject01/blob/main/jupyter_notebooks/01%20-%20DataCollection.ipynb\n",
        "\n",
        "def remove_non_image_file(my_data_dir):\n",
        "    \"\"\"\n",
        "    Removes non-image files from the a directory and its subdirectories.\n",
        "    \"\"\"\n",
        "    image_extension = ('.png', '.jpg', '.jpeg')\n",
        "    folders = os.listdir(my_data_dir)\n",
        "    for folder in folders:\n",
        "        files = os.listdir(my_data_dir + '/' + folder)\n",
        "        print(files)\n",
        "        i = []\n",
        "        j = []\n",
        "        for given_file in files:\n",
        "            if not given_file.lower().endswith(image_extension):\n",
        "                file_location = my_data_dir + '/' + folder + '/' + given_file\n",
        "                os.remove(file_location)  # remove non image file\n",
        "                i.append(1)\n",
        "            else:\n",
        "                j.append(1)\n",
        "                pass\n",
        "        print(f\"Folder: {folder} - has image file\", len(j))\n",
        "        print(f\"Folder: {folder} - has non-image file\", len(i))"
      ]
    },
    {
      "cell_type": "code",
      "execution_count": 8,
      "metadata": {},
      "outputs": [
        {
          "name": "stdout",
          "output_type": "stream",
          "text": [
            "['healthy', 'powdery_mildew']\n"
          ]
        },
        {
          "ename": "IsADirectoryError",
          "evalue": "[Errno 21] Is a directory: 'inputs/cherry_leaves/cherry-leaves//test/healthy'",
          "output_type": "error",
          "traceback": [
            "\u001b[0;31m---------------------------------------------------------------------------\u001b[0m",
            "\u001b[0;31mIsADirectoryError\u001b[0m                         Traceback (most recent call last)",
            "Cell \u001b[0;32mIn[8], line 4\u001b[0m\n\u001b[1;32m      1\u001b[0m \u001b[39m# This code snippet was adapted from Code Institue Malaria Detector Walkthrough Sample Project\u001b[39;00m\n\u001b[1;32m      2\u001b[0m \u001b[39m# https://github.com/Code-Institute-Solutions/WalkthroughProject01/blob/main/jupyter_notebooks/01%20-%20DataCollection.ipynb\u001b[39;00m\n\u001b[0;32m----> 4\u001b[0m remove_non_image_file(my_data_dir\u001b[39m=\u001b[39;49m\u001b[39m'\u001b[39;49m\u001b[39minputs/cherry_leaves/cherry-leaves/\u001b[39;49m\u001b[39m'\u001b[39;49m)\n",
            "Cell \u001b[0;32mIn[7], line 18\u001b[0m, in \u001b[0;36mremove_non_image_file\u001b[0;34m(my_data_dir)\u001b[0m\n\u001b[1;32m     16\u001b[0m \u001b[39mif\u001b[39;00m \u001b[39mnot\u001b[39;00m given_file\u001b[39m.\u001b[39mlower()\u001b[39m.\u001b[39mendswith(image_extension):\n\u001b[1;32m     17\u001b[0m     file_location \u001b[39m=\u001b[39m my_data_dir \u001b[39m+\u001b[39m \u001b[39m'\u001b[39m\u001b[39m/\u001b[39m\u001b[39m'\u001b[39m \u001b[39m+\u001b[39m folder \u001b[39m+\u001b[39m \u001b[39m'\u001b[39m\u001b[39m/\u001b[39m\u001b[39m'\u001b[39m \u001b[39m+\u001b[39m given_file\n\u001b[0;32m---> 18\u001b[0m     os\u001b[39m.\u001b[39;49mremove(file_location)  \u001b[39m# remove non image file\u001b[39;00m\n\u001b[1;32m     19\u001b[0m     i\u001b[39m.\u001b[39mappend(\u001b[39m1\u001b[39m)\n\u001b[1;32m     20\u001b[0m \u001b[39melse\u001b[39;00m:\n",
            "\u001b[0;31mIsADirectoryError\u001b[0m: [Errno 21] Is a directory: 'inputs/cherry_leaves/cherry-leaves//test/healthy'"
          ]
        }
      ],
      "source": [
        "# This code snippet was adapted from Code Institue Malaria Detector Walkthrough Sample Project\n",
        "# https://github.com/Code-Institute-Solutions/WalkthroughProject01/blob/main/jupyter_notebooks/01%20-%20DataCollection.ipynb\n",
        "\n",
        "remove_non_image_file(my_data_dir='inputs/cherry_leaves/cherry-leaves/')"
      ]
    },
    {
      "attachments": {},
      "cell_type": "markdown",
      "metadata": {},
      "source": [
        "### Split the data into train, validation, and test sets"
      ]
    },
    {
      "cell_type": "code",
      "execution_count": 7,
      "metadata": {},
      "outputs": [],
      "source": [
        "# This code snippet was adapted from Code Institue Malaria Detector Walkthrough Sample Project\n",
        "# https://github.com/Code-Institute-Solutions/WalkthroughProject01/blob/main/jupyter_notebooks/01%20-%20DataCollection.ipynb\n",
        "\n",
        "import os\n",
        "import shutil\n",
        "import random\n",
        "import joblib\n",
        "\n",
        "\n",
        "def split_train_validation_test_images(my_data_dir, train_set_ratio, validation_set_ratio, test_set_ratio):\n",
        "    \"\"\"\n",
        "    Splits images in a directory into train, validation, and test sets based on the specified ratios.\n",
        "    \"\"\"\n",
        "    if train_set_ratio + validation_set_ratio + test_set_ratio != 1.0:\n",
        "        print(\"train_set_ratio + validation_set_ratio + test_set_ratio should sum to 1.0\")\n",
        "        return\n",
        "\n",
        "    # gets classes labels\n",
        "    labels = os.listdir(my_data_dir)  # it should get only the folder name\n",
        "    if 'test' in labels:\n",
        "        pass\n",
        "    else:\n",
        "        # create train, test folders with classes labels sub-folder\n",
        "        for folder in ['train', 'validation', 'test']:\n",
        "            for label in labels:\n",
        "                os.makedirs(name=my_data_dir + '/' + folder + '/' + label)\n",
        "\n",
        "        for label in labels:\n",
        "\n",
        "            files = os.listdir(my_data_dir + '/' + label)\n",
        "            random.shuffle(files)\n",
        "\n",
        "            train_set_files_qty = int(len(files) * train_set_ratio)\n",
        "            validation_set_files_qty = int(len(files) * validation_set_ratio)\n",
        "\n",
        "            count = 1\n",
        "            for file_name in files:\n",
        "                if count <= train_set_files_qty:\n",
        "                    # move a given file to the train set\n",
        "                    shutil.move(my_data_dir + '/' + label + '/' + file_name,\n",
        "                                my_data_dir + '/train/' + label + '/' + file_name)\n",
        "\n",
        "                elif count <= (train_set_files_qty + validation_set_files_qty):\n",
        "                    # move a given file to the validation set\n",
        "                    shutil.move(my_data_dir + '/' + label + '/' + file_name,\n",
        "                                my_data_dir + '/validation/' + label + '/' + file_name)\n",
        "\n",
        "                else:\n",
        "                    # move given file to test set\n",
        "                    shutil.move(my_data_dir + '/' + label + '/' + file_name,\n",
        "                                my_data_dir + '/test/' + label + '/' + file_name)\n",
        "\n",
        "                count += 1\n",
        "\n",
        "            os.rmdir(my_data_dir + '/' + label)"
      ]
    },
    {
      "attachments": {},
      "cell_type": "markdown",
      "metadata": {},
      "source": [
        "Conventionally, the dataset is typically split with a **70%** ratio of the data for the **training set**. The **validation set** is allocated a **10%** ratio of the data, and the rest **20%** of the available data is distributed to the **test set**."
      ]
    },
    {
      "cell_type": "code",
      "execution_count": 8,
      "metadata": {},
      "outputs": [],
      "source": [
        "# This code snippet was adapted from Code Institue Malaria Detector Walkthrough Sample Project\n",
        "# https://github.com/Code-Institute-Solutions/WalkthroughProject01/blob/main/jupyter_notebooks/01%20-%20DataCollection.ipynb\n",
        "\n",
        "split_train_validation_test_images(my_data_dir=f\"inputs/cherry_leaves/cherry-leaves/\",\n",
        "                                   train_set_ratio=0.7,\n",
        "                                   validation_set_ratio=0.1,\n",
        "                                   test_set_ratio=0.2\n",
        "                                   )"
      ]
    },
    {
      "attachments": {},
      "cell_type": "markdown",
      "metadata": {},
      "source": [
        "---"
      ]
    },
    {
      "attachments": {},
      "cell_type": "markdown",
      "metadata": {
        "id": "ltNetd085qHf"
      },
      "source": [
        "# Conclusions and Next Steps"
      ]
    },
    {
      "attachments": {},
      "cell_type": "markdown",
      "metadata": {},
      "source": [
        "## Conclusions\n",
        "\n",
        "* The necessary packages for the project were successfully imported.\n",
        "* The image dataset was successfully downloaded and prepared for further analysis.\n",
        "* The dataset was split into training, test and validation sets."
      ]
    },
    {
      "attachments": {},
      "cell_type": "markdown",
      "metadata": {},
      "source": [
        "## Next Steps\n",
        "\n",
        "* In this notebook the data was collected, prepared and split into Training, Validation and Test sets.\n",
        "* The next step is Data Visualization. This step will satisfy the first business requirement: \"differentiate a cherry leaf that is healthy from one that contains powdery mildew\""
      ]
    },
    {
      "attachments": {},
      "cell_type": "markdown",
      "metadata": {},
      "source": []
    }
  ],
  "metadata": {
    "accelerator": "GPU",
    "colab": {
      "name": "Data Practitioner Jupyter Notebook.ipynb",
      "provenance": [],
      "toc_visible": true
    },
    "interpreter": {
      "hash": "8b8334dab9339717f727a1deaf837b322d7a41c20d15cc86be99a8e69ceec8ce"
    },
    "kernelspec": {
      "display_name": "Python 3.8.12 64-bit ('3.8.12': pyenv)",
      "name": "python3"
    },
    "language_info": {
      "codemirror_mode": {
        "name": "ipython",
        "version": 3
      },
      "file_extension": ".py",
      "mimetype": "text/x-python",
      "name": "python",
      "nbconvert_exporter": "python",
      "pygments_lexer": "ipython3",
      "version": "3.8.16"
    },
    "orig_nbformat": 2
  },
  "nbformat": 4,
  "nbformat_minor": 2
}
